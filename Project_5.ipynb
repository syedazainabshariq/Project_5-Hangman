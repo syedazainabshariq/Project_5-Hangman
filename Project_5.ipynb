{
  "nbformat": 4,
  "nbformat_minor": 0,
  "metadata": {
    "colab": {
      "provenance": [],
      "authorship_tag": "ABX9TyOpdF1TfuUGiRsMxbyc/eyg",
      "include_colab_link": true
    },
    "kernelspec": {
      "name": "python3",
      "display_name": "Python 3"
    },
    "language_info": {
      "name": "python"
    }
  },
  "cells": [
    {
      "cell_type": "markdown",
      "metadata": {
        "id": "view-in-github",
        "colab_type": "text"
      },
      "source": [
        "<a href=\"https://colab.research.google.com/github/syedazainabshariq/Project_5-Hangman/blob/main/Project_5.ipynb\" target=\"_parent\"><img src=\"https://colab.research.google.com/assets/colab-badge.svg\" alt=\"Open In Colab\"/></a>"
      ]
    },
    {
      "cell_type": "markdown",
      "source": [
        "# Project 5\n",
        "## Hangman"
      ],
      "metadata": {
        "id": "NrQ8mNOFg4xm"
      }
    },
    {
      "cell_type": "code",
      "execution_count": null,
      "metadata": {
        "colab": {
          "base_uri": "https://localhost:8080/"
        },
        "id": "D8i0IqdBg1LJ",
        "outputId": "16ee6e3d-e5f0-4970-c4d9-6f9e1276b2d3"
      },
      "outputs": [
        {
          "output_type": "stream",
          "name": "stdout",
          "text": [
            "Welcome to Hangman!\n",
            "Guess the word by entering one letter at a time.\n",
            "You have 6 lives. Good luck!\n",
            "\n",
            "Word to guess: _ _ _ _ _ _ _ _ _\n",
            "Lives remaining: 6\n",
            "Guessed letters: None\n",
            "Enter a letter: h\n",
            "Sorry, the letter 'h' is not in the word.\n",
            "\n",
            "Word to guess: _ _ _ _ _ _ _ _ _\n",
            "Lives remaining: 5\n",
            "Guessed letters: h\n",
            "Enter a letter: j\n",
            "Sorry, the letter 'j' is not in the word.\n",
            "\n",
            "Word to guess: _ _ _ _ _ _ _ _ _\n",
            "Lives remaining: 4\n",
            "Guessed letters: h, j\n",
            "Enter a letter: p\n",
            "Good job! The letter 'p' is in the word.\n",
            "\n",
            "Word to guess: _ _ _ _ _ _ p _ _\n",
            "Lives remaining: 4\n",
            "Guessed letters: h, j, p\n",
            "Enter a letter: c\n",
            "Sorry, the letter 'c' is not in the word.\n",
            "\n",
            "Word to guess: _ _ _ _ _ _ p _ _\n",
            "Lives remaining: 3\n",
            "Guessed letters: c, h, j, p\n",
            "Enter a letter: o\n",
            "Good job! The letter 'o' is in the word.\n",
            "\n",
            "Word to guess: _ _ _ _ _ o p _ _\n",
            "Lives remaining: 3\n",
            "Guessed letters: c, h, j, o, p\n",
            "Enter a letter: d\n",
            "Good job! The letter 'd' is in the word.\n",
            "\n",
            "Word to guess: d _ _ _ _ o p _ _\n",
            "Lives remaining: 3\n",
            "Guessed letters: c, d, h, j, o, p\n",
            "Enter a letter: e\n",
            "Good job! The letter 'e' is in the word.\n",
            "\n",
            "Word to guess: d e _ e _ o p e _\n",
            "Lives remaining: 3\n",
            "Guessed letters: c, d, e, h, j, o, p\n",
            "Enter a letter: v\n",
            "Good job! The letter 'v' is in the word.\n",
            "\n",
            "Word to guess: d e v e _ o p e _\n",
            "Lives remaining: 3\n",
            "Guessed letters: c, d, e, h, j, o, p, v\n",
            "Enter a letter: l\n",
            "Good job! The letter 'l' is in the word.\n",
            "\n",
            "Word to guess: d e v e l o p e _\n",
            "Lives remaining: 3\n",
            "Guessed letters: c, d, e, h, j, l, o, p, v\n",
            "Enter a letter: r\n",
            "Good job! The letter 'r' is in the word.\n",
            "\n",
            "Congratulations! You guessed the word: developer\n"
          ]
        }
      ],
      "source": [
        "import random\n",
        "\n",
        "def hangman():\n",
        "    print(\"Welcome to Hangman!\")\n",
        "    print(\"Guess the word by entering one letter at a time.\")\n",
        "    print(\"You have 6 lives. Good luck!\")\n",
        "\n",
        "    word_list = [\"python\", \"hangman\", \"programming\", \"computer\", \"developer\"]\n",
        "    secret_word = random.choice(word_list).lower()\n",
        "    guessed_word = [\"_\"] * len(secret_word)\n",
        "    guessed_letters = set()\n",
        "    lives = 6\n",
        "\n",
        "    while lives > 0 and \"_\" in guessed_word:\n",
        "        print(\"\\nWord to guess: \" + \" \".join(guessed_word))\n",
        "        print(f\"Lives remaining: {lives}\")\n",
        "        print(f\"Guessed letters: {', '.join(sorted(guessed_letters)) if guessed_letters else 'None'}\")\n",
        "\n",
        "        guess = input(\"Enter a letter: \").lower()\n",
        "\n",
        "        if len(guess) != 1 or not guess.isalpha():\n",
        "            print(\"Invalid input. Please enter a single alphabet.\")\n",
        "            continue\n",
        "\n",
        "        if guess in guessed_letters:\n",
        "            print(\"You already guessed that letter. Try a different one.\")\n",
        "            continue\n",
        "\n",
        "        guessed_letters.add(guess)\n",
        "\n",
        "        if guess in secret_word:\n",
        "            print(f\"Good job! The letter '{guess}' is in the word.\")\n",
        "            for i, letter in enumerate(secret_word):\n",
        "                if letter == guess:\n",
        "                    guessed_word[i] = guess\n",
        "        else:\n",
        "            print(f\"Sorry, the letter '{guess}' is not in the word.\")\n",
        "            lives -= 1\n",
        "\n",
        "    if \"_\" not in guessed_word:\n",
        "        print(\"\\nCongratulations! You guessed the word: \" + secret_word)\n",
        "    else:\n",
        "        print(\"\\nGame Over! The word was: \" + secret_word)\n",
        "\n",
        "hangman()\n"
      ]
    }
  ]
}